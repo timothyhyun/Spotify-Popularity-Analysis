{
  "nbformat": 4,
  "nbformat_minor": 0,
  "metadata": {
    "colab": {
      "name": "DataCleaning.ipynb",
      "provenance": [],
      "collapsed_sections": []
    },
    "kernelspec": {
      "name": "python3",
      "display_name": "Python 3"
    },
    "language_info": {
      "name": "python"
    }
  },
  "cells": [
    {
      "cell_type": "code",
      "metadata": {
        "id": "fHmuVKcy3bfy"
      },
      "source": [
        "#imports \n",
        "import numpy as np\n",
        "import pandas as pd\n",
        "from scipy import stats"
      ],
      "execution_count": null,
      "outputs": []
    },
    {
      "cell_type": "code",
      "metadata": {
        "id": "BH8IubF83pYm"
      },
      "source": [
        "data = pd.read_csv(\"../input/spotify-dataset-19212020-160k-tracks/data_o.csv\") "
      ],
      "execution_count": null,
      "outputs": []
    },
    {
      "cell_type": "code",
      "metadata": {
        "id": "tQMl37tp3tnb"
      },
      "source": [
        "data.head()\n",
        "data.info()"
      ],
      "execution_count": null,
      "outputs": []
    },
    {
      "cell_type": "code",
      "metadata": {
        "id": "gNgybWHL3wTE"
      },
      "source": [
        "#removing dupliates\n",
        "data['artists+name'] = data.apply(lambda row: row['artists'] + row['name'], axis=1)\n",
        "df = data[data['artists+name'].duplicated()]"
      ],
      "execution_count": null,
      "outputs": []
    },
    {
      "cell_type": "code",
      "metadata": {
        "id": "cmzw8CIj4C8d"
      },
      "source": [
        "indices = []\n",
        "\n",
        "for name in df['artists+name'].unique():\n",
        "    subset = data[data['artists+name'] == name].copy()\n",
        "    m = subset['popularity'].max()\n",
        "    index = subset[subset['popularity'] == m].index[0]\n",
        "    indices.append(index)"
      ],
      "execution_count": null,
      "outputs": []
    },
    {
      "cell_type": "code",
      "metadata": {
        "id": "LA5Ikbjx4D0l"
      },
      "source": [
        "data_bis = data.loc[indices].copy()"
      ],
      "execution_count": null,
      "outputs": []
    },
    {
      "cell_type": "code",
      "metadata": {
        "id": "csSpoh2C4I3q"
      },
      "source": [
        "data_ter = data.copy()\n",
        "for i, row in data.iterrows():\n",
        "    if row['artists+name'] in df['artists+name'].unique():\n",
        "        data_ter.drop(index=i, inplace=True)\n",
        "        \n",
        "frames = [data_bis, data_ter]\n",
        "data_four = pd.concat(frames)"
      ],
      "execution_count": null,
      "outputs": []
    },
    {
      "cell_type": "code",
      "metadata": {
        "id": "STUgLFNn4W8Q"
      },
      "source": [
        "#remove unnecessary columns\n",
        "data_four.drop(columns=['release_date','id','artists+name', 'loudness'], inplace=True, axis=1)"
      ],
      "execution_count": null,
      "outputs": []
    },
    {
      "cell_type": "code",
      "metadata": {
        "id": "ooG6VF4w4Tx5"
      },
      "source": [
        "def remove_outlier(data, threshold):\n",
        "\n",
        "    data = data.copy()\n",
        "\n",
        "    thresholdz = stats.norm.ppf(threshold)\n",
        "    data = data[(np.abs(stats.zscore(data['duration_ms'])) < thresholdz)]\n",
        "  \n",
        "    return data\n"
      ],
      "execution_count": null,
      "outputs": []
    },
    {
      "cell_type": "code",
      "metadata": {
        "id": "S6yI70Hxl9Y3"
      },
      "source": [
        "#remove outliers from data\n",
        "final = remove_outlier(data_four, .9999)"
      ],
      "execution_count": null,
      "outputs": []
    },
    {
      "cell_type": "code",
      "metadata": {
        "id": "PMUtyTMIeH7f"
      },
      "source": [
        "#map artists to the average popularity of their song\n",
        "artists_and_pop = {}\n",
        "count = 0\n",
        "train_mean_pop = final['popularity'].mean()\n",
        "\n",
        "for artist in final['artists'].unique():\n",
        "    temp = final[final['artists'] == artist]['popularity'].copy()\n",
        "    if len(temp) > 1:\n",
        "        artists_and_pop[artist] = temp.mean()\n",
        "    elif len(temp) == 1:\n",
        "        artists_and_pop[artist] = train_mean_pop\n",
        "    else:\n",
        "        print('Stopping iteration due to unexpected result.')\n",
        "        break"
      ],
      "execution_count": null,
      "outputs": []
    },
    {
      "cell_type": "code",
      "metadata": {
        "id": "mAdcRuBmeK_R"
      },
      "source": [
        "final['artists'] = final['artists'].map(artists_and_pop)"
      ],
      "execution_count": null,
      "outputs": []
    },
    {
      "cell_type": "code",
      "metadata": {
        "id": "vHZHLAsKmGxz"
      },
      "source": [
        "#save \n",
        "final.to_csv('data/songs.csv', index=False)"
      ],
      "execution_count": null,
      "outputs": []
    }
  ]
}